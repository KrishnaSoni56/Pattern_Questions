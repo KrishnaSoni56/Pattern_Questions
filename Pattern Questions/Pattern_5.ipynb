{
 "cells": [
  {
   "cell_type": "code",
   "execution_count": 3,
   "id": "e558f7b6",
   "metadata": {},
   "outputs": [
    {
     "name": "stdout",
     "output_type": "stream",
     "text": [
      "  * * * * *  \n",
      "    * * * *  \n",
      "      * * *  \n",
      "        * *  \n",
      "          *  \n"
     ]
    }
   ],
   "source": [
    "for i in range(1,6):\n",
    "    for space in range(1,i+1):\n",
    "        print(\" \",end=\" \")\n",
    "    for j in range(1,7-i):\n",
    "        print(\"*\",end=\" \")\n",
    "    \n",
    "    print(\"\")"
   ]
  },
  {
   "cell_type": "code",
   "execution_count": null,
   "id": "c224f901",
   "metadata": {},
   "outputs": [],
   "source": []
  }
 ],
 "metadata": {
  "kernelspec": {
   "display_name": "Python 3 (ipykernel)",
   "language": "python",
   "name": "python3"
  },
  "language_info": {
   "codemirror_mode": {
    "name": "ipython",
    "version": 3
   },
   "file_extension": ".py",
   "mimetype": "text/x-python",
   "name": "python",
   "nbconvert_exporter": "python",
   "pygments_lexer": "ipython3",
   "version": "3.10.9"
  }
 },
 "nbformat": 4,
 "nbformat_minor": 5
}
